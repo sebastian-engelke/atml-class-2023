{
 "cells": [
  {
   "cell_type": "markdown",
   "metadata": {},
   "source": [
    "# Gridworld"
   ]
  },
  {
   "attachments": {},
   "cell_type": "markdown",
   "metadata": {},
   "source": [
    "### Description"
   ]
  },
  {
   "attachments": {},
   "cell_type": "markdown",
   "metadata": {},
   "source": [
    "In this seminar we implement an example of the agent-environment interface used in reinforcement learning, called \"gridworld\".\n",
    "\n",
    "The world consists of an $n \\times m$ grid of squares, indexed by $(i,j)$ with $i = 0, 1, \\dots, n-1$ and $j = 0, 1, \\dots, m-1$.\n",
    "\n",
    "The state of the environment consists of the player being in one of the squares.\n",
    "\n",
    "The possible actions are steps in the directions \"UP\", \"RIGHT\", \"DOWN\", \"LEFT\".\n",
    "\n",
    "The rewards and states after each action can depend on multiple factors:\n",
    "- Some squares can give positive/negative rewards\n",
    "- Squares might be \"blocked\" and not possible to step on\n",
    "- Stepping off the board is impossible\n",
    "- Invalid moves might give a negative reward as \"punishment\"\n",
    "- There might be \"portals\" that take the player to a distant square, regardless of their action\n",
    "- There might be deterministic or random effects that change the outcome of actions, e.g. \"wind\" or \"ice\"."
   ]
  },
  {
   "attachments": {},
   "cell_type": "markdown",
   "metadata": {},
   "source": [
    "Variants of this gridworld can be used to illustrate a wide range of concepts and algorithms in reinforcement learning.\n",
    "For instance, in [Sutton & Barto](http://incompleteideas.net/book/the-book-2nd.html) see:\n",
    "- Example 3.5, 3.8\n",
    "- Figure 4.1\n",
    "- Example 6.5, 6.6\n",
    "- Figure 7.4\n",
    "- Example 8.1, 8.3\n"
   ]
  },
  {
   "attachments": {},
   "cell_type": "markdown",
   "metadata": {},
   "source": [
    "You can either implement this class in a separate module (recommended) or inside a Jupyter cell, see `reuseCode.ipynb` for details."
   ]
  },
  {
   "attachments": {},
   "cell_type": "markdown",
   "metadata": {},
   "source": [
    "### Implementation"
   ]
  },
  {
   "attachments": {},
   "cell_type": "markdown",
   "metadata": {},
   "source": [
    "Below is a suggested skeleton of a `GridWorld` class, feel free to modify or rename everything.\n",
    "If you want to implement this class in a separate module, create a new file `gridworld.py`, copy the code there, and delete this code cell."
   ]
  },
  {
   "cell_type": "code",
   "execution_count": null,
   "metadata": {},
   "outputs": [],
   "source": [
    "\n",
    "# A list of possible moves\n",
    "MOVES = [\n",
    "    (-1, 0), # Up\n",
    "    (0, 1),  # Right\n",
    "    (1, 0),  # Down\n",
    "    (0, -1)  # Left\n",
    "]\n",
    "\n",
    "class GridWorld:\n",
    "    def __init__(self, height = 5, width = 5, rewardDict = dict(), invalidActionReward = 0):\n",
    "        # Store given dimensions and rewards in attributes\n",
    "        self.height = height\n",
    "        self.width = width\n",
    "        self.rewardDict = rewardDict\n",
    "        self.invalidActionReward = invalidActionReward\n",
    "\n",
    "        # Set the initial position to (0, 0)\n",
    "        self.pos = (0, 0)\n",
    "\n",
    "    def step(self, action):\n",
    "        \"\"\"\n",
    "        Perform an action.\n",
    "        The argument `action` must be an integer (0, 1, 2, or 3),\n",
    "        indicating one of the moves from `MOVES`.\n",
    "        \"\"\"\n",
    "        \n",
    "        # Get the move (tuple) corresponding to the given action (integer)\n",
    "        move = MOVES[action]\n",
    "        \n",
    "        # Compute the new position\n",
    "        newPos = (self.pos[0] + move[0], self.pos[1] + move[1])\n",
    "        \n",
    "        # Check if the new position is out of bounds\n",
    "        if newPos[0] < 0 or newPos[0] >= self.height or newPos[1] < 0 or newPos[1] >= self.width:\n",
    "            # If so, don't move, and return the invalid action reward\n",
    "            return self.pos, self.invalidActionReward\n",
    "        \n",
    "        # Loop up the reward for landing here\n",
    "        reward = self.rewardDict.get(newPos, 0)\n",
    "        \n",
    "        # Update the state of the world\n",
    "        self.pos = newPos\n",
    "\n",
    "        # Return the new position and the reward\n",
    "        return newPos, reward\n",
    "    \n",
    "    def reset(self):\n",
    "        self.pos = (0, 0)\n",
    "        return self.pos\n",
    "    \n",
    "    def drawWorld(self):\n",
    "        # Loop over all rows/columns\n",
    "        for i in range(self.height):\n",
    "            for j in range(self.width):\n",
    "                # Print an \"X\" if we're at the current position\n",
    "                # Otherwise, print a \".\"\n",
    "                if (i, j) == self.pos:\n",
    "                    print(\"X\", end=\" \")\n",
    "                else:\n",
    "                    print(\".\", end=\" \")\n",
    "            # Print a newline at the end of each row\n",
    "            print()\n",
    "    \n",
    "    def play(self):\n",
    "        print('Enter an integer to make a move (0, 1, 2, or 3).')\n",
    "        print('Enter anything else to quit.\\n')\n",
    "        self.drawWorld()\n",
    "        while True:\n",
    "            x = input('> ')\n",
    "            try:\n",
    "                action = int(x)\n",
    "            except:\n",
    "                break\n",
    "            (newPos, reward) = self.step(action)\n",
    "            print('New position:', newPos)\n",
    "            print('Reward:', reward, '\\n')\n",
    "            self.drawWorld()"
   ]
  },
  {
   "attachments": {},
   "cell_type": "markdown",
   "metadata": {},
   "source": [
    "Once you have implemented the basic methods above, you should be able to walk around in an empty gridworld! 🎉\n",
    "\n",
    "To make things more interesting, implement for example:\n",
    "- Positive rewards for reaching certain squares\n",
    "- Negative rewards for \"illegal\" moves\n",
    "- Blocked squares that cannot be entered\n",
    "- Teleporting squares that move the player to another spot. This is useful to avoid optimal \"back-and-forth\" policies.\n",
    "- A `.previewMove()` method to simulate given actions from a given start square.\n",
    "- A random effect (ice, wind, ...) that changes the effect of some actions.\n"
   ]
  },
  {
   "attachments": {},
   "cell_type": "markdown",
   "metadata": {},
   "source": [
    "### Testing"
   ]
  },
  {
   "attachments": {},
   "cell_type": "markdown",
   "metadata": {},
   "source": [
    "Below you can test individual aspects of your gridworld class with short code cells.\n",
    "\n",
    "You can re-run cells or run them out of order, but it is recommended that the notebook still works if you `Run All` in a fresh jupyter session.\n",
    "\n",
    "If you implemented an interactive `.play()` method, you might not be able to test it from inside a jupyter notebook."
   ]
  },
  {
   "cell_type": "code",
   "execution_count": null,
   "metadata": {},
   "outputs": [],
   "source": [
    "# not necessary, since we defined the class in this notebook:\n",
    "\n",
    "# # Import the GridWorld class from `gridworld.py`\n",
    "# from gridworld import GridWorld\n"
   ]
  },
  {
   "cell_type": "code",
   "execution_count": null,
   "metadata": {},
   "outputs": [],
   "source": [
    "# Create a dictionary of rewards\n",
    "rewardDict = {\n",
    "    (0, 3): 10,\n",
    "    (1, 3): -10,\n",
    "}\n",
    "\n",
    "# Create a new gridworld instance\n",
    "gw = GridWorld(6,7)\n",
    "\n",
    "# Output instance\n",
    "gw.drawWorld()"
   ]
  },
  {
   "cell_type": "code",
   "execution_count": null,
   "metadata": {},
   "outputs": [],
   "source": [
    "# Play interactively\n",
    "# gw.play()"
   ]
  },
  {
   "cell_type": "code",
   "execution_count": null,
   "metadata": {},
   "outputs": [],
   "source": [
    "# Test any other behaviour that you implemented..."
   ]
  }
 ],
 "metadata": {
  "kernelspec": {
   "display_name": "Python 3 (ipykernel)",
   "language": "python",
   "name": "python3"
  },
  "language_info": {
   "codemirror_mode": {
    "name": "ipython",
    "version": 3
   },
   "file_extension": ".py",
   "mimetype": "text/x-python",
   "name": "python",
   "nbconvert_exporter": "python",
   "pygments_lexer": "ipython3",
   "version": "3.10.6"
  },
  "vscode": {
   "interpreter": {
    "hash": "57c3bdca5a68245cc50b723d4c81bd24b2e1aa8df4f8df0134d90b967dbed3e1"
   }
  }
 },
 "nbformat": 4,
 "nbformat_minor": 2
}
